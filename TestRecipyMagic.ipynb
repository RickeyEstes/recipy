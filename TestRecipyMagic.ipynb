{
 "cells": [
  {
   "cell_type": "code",
   "execution_count": 1,
   "metadata": {
    "collapsed": false
   },
   "outputs": [],
   "source": [
    "%load_ext autoreload\n",
    "%autoreload 2"
   ]
  },
  {
   "cell_type": "code",
   "execution_count": 2,
   "metadata": {
    "collapsed": false
   },
   "outputs": [],
   "source": [
    "!rm ~/.recipy/recipyDB.json"
   ]
  },
  {
   "cell_type": "code",
   "execution_count": 3,
   "metadata": {
    "collapsed": false
   },
   "outputs": [],
   "source": [
    "%load_ext recipyCommon.magic"
   ]
  },
  {
   "cell_type": "code",
   "execution_count": 4,
   "metadata": {
    "collapsed": false
   },
   "outputs": [
    {
     "data": {
      "application/javascript": [
       "\n",
       "var kernel = IPython.notebook.kernel;\n",
       "var attribs = document.body.attributes;\n",
       "var command = \"recipyNotebookName = \" + \"'\"+attribs['data-notebook-name'].value+\"'\";\n",
       "console.log(\"Load notebook name...\")\n",
       "kernel.execute(command);"
      ],
      "text/plain": [
       "<IPython.core.display.Javascript object>"
      ]
     },
     "metadata": {},
     "output_type": "display_data"
    }
   ],
   "source": [
    "%loadNotebookName"
   ]
  },
  {
   "cell_type": "code",
   "execution_count": null,
   "metadata": {
    "collapsed": false
   },
   "outputs": [],
   "source": []
  },
  {
   "cell_type": "code",
   "execution_count": 5,
   "metadata": {
    "collapsed": false
   },
   "outputs": [
    {
     "name": "stdout",
     "output_type": "stream",
     "text": [
      "No results found\r\n",
      "\u001b[0m"
     ]
    }
   ],
   "source": [
    "!./recipy-cmd search test.npy"
   ]
  },
  {
   "cell_type": "code",
   "execution_count": 6,
   "metadata": {
    "collapsed": false
   },
   "outputs": [
    {
     "name": "stdout",
     "output_type": "stream",
     "text": [
      "[RecipyMagic] this is when recipy should bet imported, not before...\n",
      "[RecipyMagic] notebookName: TestRecipyMagic.ipynb\n",
      "recipy run inserted, with ID 04a14e50-7447-400d-91aa-428090ae1850\n",
      "recipy run inserted, with ID 12edf0d4-6b89-4645-8c37-57f5061f282b\n"
     ]
    }
   ],
   "source": [
    "%recipyOn"
   ]
  },
  {
   "cell_type": "code",
   "execution_count": 7,
   "metadata": {
    "collapsed": false
   },
   "outputs": [],
   "source": [
    "import numpy"
   ]
  },
  {
   "cell_type": "code",
   "execution_count": 8,
   "metadata": {
    "collapsed": false
   },
   "outputs": [],
   "source": [
    "arr = numpy.arange(10)\n",
    "arr = arr + 500\n",
    "\n",
    "numpy.save('test.npy', arr)"
   ]
  },
  {
   "cell_type": "code",
   "execution_count": 9,
   "metadata": {
    "collapsed": false
   },
   "outputs": [
    {
     "name": "stdout",
     "output_type": "stream",
     "text": [
      "No results found\n",
      "\u001b[0m"
     ]
    }
   ],
   "source": [
    "!./recipy-cmd search test.npy"
   ]
  },
  {
   "cell_type": "code",
   "execution_count": 10,
   "metadata": {
    "collapsed": false
   },
   "outputs": [],
   "source": [
    "%recipyOff"
   ]
  },
  {
   "cell_type": "code",
   "execution_count": 11,
   "metadata": {
    "collapsed": false
   },
   "outputs": [
    {
     "name": "stdout",
     "output_type": "stream",
     "text": [
      "\u001b[1mRun ID:\u001b[0m 12edf0d4-6b89-4645-8c37-57f5061f282b\r\n",
      "\u001b[1mCreated by\u001b[0m neocarlitos on 2017-01-16 20:00:21 UTC\r\n",
      "\u001b[1mRan\u001b[0m TestRecipyMagic.ipynb using /home/neocarlitos/workspace/Python/recipy/venv/bin/python\r\n",
      "Using command-line arguments: -f /run/user/1000/jupyter/kernel-b2e338b7-9803-4eb7-bf93-3cd1f65af266.json\r\n",
      "\u001b[1mEnvironment:\u001b[0m Linux-4.7.9-200.fc24.x86_64-x86_64-with-fedora-24-Twenty_Four, python 2.7.12 (default, Sep 29 2016, 13:30:34) \r\n",
      "\u001b[1mLibraries:\u001b[0m recipy v0.3.0, numpy v1.11.2\r\n",
      "\u001b[1mInputs:\u001b[0m none\r\n",
      "\u001b[1mOutputs:\u001b[0m\r\n",
      "/home/neocarlitos/workspace/Python/recipy/test.npy (377cfed96fd58963783e45607b9234584c33d551)\r\n",
      "\r\n",
      "\r\n",
      "\u001b[0m"
     ]
    }
   ],
   "source": [
    "!./recipy-cmd search test.npy"
   ]
  },
  {
   "cell_type": "code",
   "execution_count": null,
   "metadata": {
    "collapsed": true
   },
   "outputs": [],
   "source": []
  },
  {
   "cell_type": "code",
   "execution_count": null,
   "metadata": {
    "collapsed": false
   },
   "outputs": [],
   "source": []
  }
 ],
 "metadata": {
  "kernelspec": {
   "display_name": "Python 2",
   "language": "python",
   "name": "python2"
  },
  "language_info": {
   "codemirror_mode": {
    "name": "ipython",
    "version": 2
   },
   "file_extension": ".py",
   "mimetype": "text/x-python",
   "name": "python",
   "nbconvert_exporter": "python",
   "pygments_lexer": "ipython2",
   "version": "2.7.12"
  }
 },
 "nbformat": 4,
 "nbformat_minor": 0
}
